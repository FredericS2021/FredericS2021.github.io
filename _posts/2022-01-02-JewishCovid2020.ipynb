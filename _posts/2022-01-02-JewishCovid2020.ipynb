{
 "cells": [
  {
   "cell_type": "markdown",
   "metadata": {},
   "source": [
    "Before we begin...\n",
    "\n",
    "Questions:\n",
    "* How has Covid influenced people?\n",
    " * i.e. are people being introspective, working on themselves, etc. or is something else going on?\n",
    " * Which backgrounds are most affected?"
   ]
  },
  {
   "cell_type": "code",
   "execution_count": 594,
   "metadata": {},
   "outputs": [],
   "source": [
    "import pandas as pd\n",
    "import numpy as np\n",
    "import sklearn as sk\n",
    "import matplotlib.pyplot as plt\n",
    "import seaborn as sns"
   ]
  },
  {
   "cell_type": "code",
   "execution_count": 595,
   "metadata": {},
   "outputs": [],
   "source": [
    "jewish_covid_data = pd.read_spss('2020 COVID_Jewish Engagement_High Holidays_SPSS SAV_DB.sav')"
   ]
  },
  {
   "cell_type": "code",
   "execution_count": 596,
   "metadata": {
    "scrolled": true
   },
   "outputs": [],
   "source": [
    "#list(jewish_covid_data.columns)"
   ]
  },
  {
   "cell_type": "code",
   "execution_count": 597,
   "metadata": {},
   "outputs": [
    {
     "data": {
      "text/html": [
       "<div>\n",
       "<style scoped>\n",
       "    .dataframe tbody tr th:only-of-type {\n",
       "        vertical-align: middle;\n",
       "    }\n",
       "\n",
       "    .dataframe tbody tr th {\n",
       "        vertical-align: top;\n",
       "    }\n",
       "\n",
       "    .dataframe thead th {\n",
       "        text-align: right;\n",
       "    }\n",
       "</style>\n",
       "<table border=\"1\" class=\"dataframe\">\n",
       "  <thead>\n",
       "    <tr style=\"text-align: right;\">\n",
       "      <th></th>\n",
       "      <th>record</th>\n",
       "      <th>qAge</th>\n",
       "      <th>qState</th>\n",
       "      <th>q1_1</th>\n",
       "      <th>q1_2</th>\n",
       "      <th>qEthnicity_1</th>\n",
       "      <th>qEthnicity_2</th>\n",
       "      <th>qEthnicity_3</th>\n",
       "      <th>qEthnicity_4</th>\n",
       "      <th>qEthnicity_5</th>\n",
       "      <th>...</th>\n",
       "      <th>qChildren3</th>\n",
       "      <th>qMarital</th>\n",
       "      <th>qHHFaith</th>\n",
       "      <th>qOrientation_1</th>\n",
       "      <th>qOrientation_2</th>\n",
       "      <th>qOrientation_3</th>\n",
       "      <th>qHHIncome</th>\n",
       "      <th>qAbility_1</th>\n",
       "      <th>qAbility_2</th>\n",
       "      <th>ALLWT</th>\n",
       "    </tr>\n",
       "  </thead>\n",
       "  <tbody>\n",
       "    <tr>\n",
       "      <th>0</th>\n",
       "      <td>2.0</td>\n",
       "      <td>63</td>\n",
       "      <td>Arizona</td>\n",
       "      <td>A woman</td>\n",
       "      <td>NaN</td>\n",
       "      <td>White-For example, German, Irish, English, Ita...</td>\n",
       "      <td>NaN</td>\n",
       "      <td>NaN</td>\n",
       "      <td>NaN</td>\n",
       "      <td>NaN</td>\n",
       "      <td>...</td>\n",
       "      <td>No</td>\n",
       "      <td>Married / Domestic Partnership</td>\n",
       "      <td>No</td>\n",
       "      <td>Straight or heterosexual</td>\n",
       "      <td>NaN</td>\n",
       "      <td>NaN</td>\n",
       "      <td>$35,000 - less than $50,000</td>\n",
       "      <td>Yes, I do</td>\n",
       "      <td>NaN</td>\n",
       "      <td>1.275025</td>\n",
       "    </tr>\n",
       "    <tr>\n",
       "      <th>1</th>\n",
       "      <td>3.0</td>\n",
       "      <td>67</td>\n",
       "      <td>Massachusetts</td>\n",
       "      <td>A woman</td>\n",
       "      <td>NaN</td>\n",
       "      <td>White-For example, German, Irish, English, Ita...</td>\n",
       "      <td>NaN</td>\n",
       "      <td>NaN</td>\n",
       "      <td>NaN</td>\n",
       "      <td>NaN</td>\n",
       "      <td>...</td>\n",
       "      <td>No</td>\n",
       "      <td>Married / Domestic Partnership</td>\n",
       "      <td>Yes</td>\n",
       "      <td>Straight or heterosexual</td>\n",
       "      <td>NaN</td>\n",
       "      <td>NaN</td>\n",
       "      <td>$150,000 to less than $200,000</td>\n",
       "      <td>No</td>\n",
       "      <td>NaN</td>\n",
       "      <td>0.758117</td>\n",
       "    </tr>\n",
       "    <tr>\n",
       "      <th>2</th>\n",
       "      <td>4.0</td>\n",
       "      <td>53</td>\n",
       "      <td>Florida</td>\n",
       "      <td>A man</td>\n",
       "      <td>NaN</td>\n",
       "      <td>White-For example, German, Irish, English, Ita...</td>\n",
       "      <td>NaN</td>\n",
       "      <td>NaN</td>\n",
       "      <td>NaN</td>\n",
       "      <td>NaN</td>\n",
       "      <td>...</td>\n",
       "      <td>Yes</td>\n",
       "      <td>Married / Domestic Partnership</td>\n",
       "      <td>No</td>\n",
       "      <td>Straight or heterosexual</td>\n",
       "      <td>NaN</td>\n",
       "      <td>NaN</td>\n",
       "      <td>$75,000 - less than $100,000</td>\n",
       "      <td>No</td>\n",
       "      <td>NaN</td>\n",
       "      <td>1.226917</td>\n",
       "    </tr>\n",
       "    <tr>\n",
       "      <th>3</th>\n",
       "      <td>5.0</td>\n",
       "      <td>59</td>\n",
       "      <td>Massachusetts</td>\n",
       "      <td>A woman</td>\n",
       "      <td>NaN</td>\n",
       "      <td>White-For example, German, Irish, English, Ita...</td>\n",
       "      <td>NaN</td>\n",
       "      <td>NaN</td>\n",
       "      <td>NaN</td>\n",
       "      <td>NaN</td>\n",
       "      <td>...</td>\n",
       "      <td>No</td>\n",
       "      <td>Married / Domestic Partnership</td>\n",
       "      <td>No</td>\n",
       "      <td>Straight or heterosexual</td>\n",
       "      <td>NaN</td>\n",
       "      <td>NaN</td>\n",
       "      <td>$50,000 - less than $75,000</td>\n",
       "      <td>No</td>\n",
       "      <td>NaN</td>\n",
       "      <td>1.252093</td>\n",
       "    </tr>\n",
       "    <tr>\n",
       "      <th>4</th>\n",
       "      <td>6.0</td>\n",
       "      <td>55</td>\n",
       "      <td>New Jersey</td>\n",
       "      <td>A woman</td>\n",
       "      <td>NaN</td>\n",
       "      <td>White-For example, German, Irish, English, Ita...</td>\n",
       "      <td>NaN</td>\n",
       "      <td>NaN</td>\n",
       "      <td>NaN</td>\n",
       "      <td>NaN</td>\n",
       "      <td>...</td>\n",
       "      <td>Yes</td>\n",
       "      <td>Married / Domestic Partnership</td>\n",
       "      <td>No</td>\n",
       "      <td>Straight or heterosexual</td>\n",
       "      <td>NaN</td>\n",
       "      <td>NaN</td>\n",
       "      <td>$200,000 or more</td>\n",
       "      <td>No</td>\n",
       "      <td>NaN</td>\n",
       "      <td>1.252093</td>\n",
       "    </tr>\n",
       "  </tbody>\n",
       "</table>\n",
       "<p>5 rows × 260 columns</p>\n",
       "</div>"
      ],
      "text/plain": [
       "   record qAge         qState     q1_1 q1_2  \\\n",
       "0     2.0   63        Arizona  A woman  NaN   \n",
       "1     3.0   67  Massachusetts  A woman  NaN   \n",
       "2     4.0   53        Florida    A man  NaN   \n",
       "3     5.0   59  Massachusetts  A woman  NaN   \n",
       "4     6.0   55     New Jersey  A woman  NaN   \n",
       "\n",
       "                                        qEthnicity_1 qEthnicity_2  \\\n",
       "0  White-For example, German, Irish, English, Ita...          NaN   \n",
       "1  White-For example, German, Irish, English, Ita...          NaN   \n",
       "2  White-For example, German, Irish, English, Ita...          NaN   \n",
       "3  White-For example, German, Irish, English, Ita...          NaN   \n",
       "4  White-For example, German, Irish, English, Ita...          NaN   \n",
       "\n",
       "  qEthnicity_3 qEthnicity_4 qEthnicity_5  ... qChildren3  \\\n",
       "0          NaN          NaN          NaN  ...         No   \n",
       "1          NaN          NaN          NaN  ...         No   \n",
       "2          NaN          NaN          NaN  ...        Yes   \n",
       "3          NaN          NaN          NaN  ...         No   \n",
       "4          NaN          NaN          NaN  ...        Yes   \n",
       "\n",
       "                         qMarital qHHFaith            qOrientation_1  \\\n",
       "0  Married / Domestic Partnership       No  Straight or heterosexual   \n",
       "1  Married / Domestic Partnership      Yes  Straight or heterosexual   \n",
       "2  Married / Domestic Partnership       No  Straight or heterosexual   \n",
       "3  Married / Domestic Partnership       No  Straight or heterosexual   \n",
       "4  Married / Domestic Partnership       No  Straight or heterosexual   \n",
       "\n",
       "  qOrientation_2 qOrientation_3                       qHHIncome qAbility_1  \\\n",
       "0            NaN            NaN     $35,000 - less than $50,000  Yes, I do   \n",
       "1            NaN            NaN  $150,000 to less than $200,000         No   \n",
       "2            NaN            NaN    $75,000 - less than $100,000         No   \n",
       "3            NaN            NaN     $50,000 - less than $75,000         No   \n",
       "4            NaN            NaN                $200,000 or more         No   \n",
       "\n",
       "  qAbility_2     ALLWT  \n",
       "0        NaN  1.275025  \n",
       "1        NaN  0.758117  \n",
       "2        NaN  1.226917  \n",
       "3        NaN  1.252093  \n",
       "4        NaN  1.252093  \n",
       "\n",
       "[5 rows x 260 columns]"
      ]
     },
     "execution_count": 597,
     "metadata": {},
     "output_type": "execute_result"
    }
   ],
   "source": [
    "# looking into how columns are structured more...\n",
    "jewish_covid_data.head()"
   ]
  },
  {
   "cell_type": "code",
   "execution_count": 598,
   "metadata": {},
   "outputs": [
    {
     "data": {
      "text/plain": [
       "(1414, 260)"
      ]
     },
     "execution_count": 598,
     "metadata": {},
     "output_type": "execute_result"
    }
   ],
   "source": [
    "jewish_covid_data.shape"
   ]
  },
  {
   "cell_type": "code",
   "execution_count": 599,
   "metadata": {},
   "outputs": [
    {
     "data": {
      "text/plain": [
       "record             float64\n",
       "qAge              category\n",
       "qState            category\n",
       "q1_1              category\n",
       "q1_2              category\n",
       "                    ...   \n",
       "qOrientation_3    category\n",
       "qHHIncome         category\n",
       "qAbility_1        category\n",
       "qAbility_2        category\n",
       "ALLWT              float64\n",
       "Length: 260, dtype: object"
      ]
     },
     "execution_count": 599,
     "metadata": {},
     "output_type": "execute_result"
    }
   ],
   "source": [
    "jewish_covid_data.dtypes"
   ]
  },
  {
   "cell_type": "code",
   "execution_count": 600,
   "metadata": {},
   "outputs": [
    {
     "name": "stdout",
     "output_type": "stream",
     "text": [
      "record            1414\n",
      "qAge                73\n",
      "qState              48\n",
      "q1_1                 4\n",
      "q1_2                 3\n",
      "                  ... \n",
      "qOrientation_3       1\n",
      "qHHIncome            9\n",
      "qAbility_1           4\n",
      "qAbility_2           1\n",
      "ALLWT              253\n",
      "Length: 260, dtype: int64\n"
     ]
    }
   ],
   "source": [
    "uniques = jewish_covid_data.nunique()\n",
    "print(uniques)"
   ]
  },
  {
   "cell_type": "code",
   "execution_count": 601,
   "metadata": {},
   "outputs": [
    {
     "name": "stdout",
     "output_type": "stream",
     "text": [
      "A man                       712\n",
      "A woman                     682\n",
      "Non-binary                   11\n",
      "I prefer not to disclose      9\n",
      "Name: q1_1, dtype: int64 \n",
      "\n",
      "Non-binary                   3\n",
      "A woman                      3\n",
      "I prefer to self describe    1\n",
      "Name: q1_2, dtype: int64\n"
     ]
    }
   ],
   "source": [
    "print(jewish_covid_data['q1_1'].value_counts(), '\\n')\n",
    "print(jewish_covid_data['q1_2'].value_counts())"
   ]
  },
  {
   "cell_type": "markdown",
   "metadata": {},
   "source": [
    "## What columns to focus on"
   ]
  },
  {
   "cell_type": "markdown",
   "metadata": {},
   "source": [
    "Looking for actionable self-improvement questions and answers, I looked through the survey document and found the following:\n",
    "\n",
    "Questions 3, 10 (answers 9-11), 13 (first half), 16 (answers 9-11, maybe earlier answers about yiddishkeit too?), maybe Q21 (don't like it's based on yes to Q18), Q31 (A3,6,10), Q32 (all answers but 2, 99), Q33,34, 41!! (7-10)\n",
    "\n",
    "I will focus on question 41 and expand from there if need be."
   ]
  },
  {
   "cell_type": "code",
   "execution_count": 602,
   "metadata": {},
   "outputs": [],
   "source": [
    "#list(jewish_covid_data2.columns)"
   ]
  },
  {
   "cell_type": "markdown",
   "metadata": {},
   "source": [
    "## Outcome variable clean-up/analysis"
   ]
  },
  {
   "cell_type": "markdown",
   "metadata": {},
   "source": [
    "Q41:\n",
    "\n",
    "* 7)   The pandemic has made it feel more important to connect to God.\n",
    "* 8)   The pandemic has made it feel more important to connect to the religious or spiritual aspects of being Jewish.\n",
    "* 9)   The pandemic has made it feel more important to bring Jewish practices into my home.\n",
    "* 10) The pandemic has made it feel more important to live by my Jewish values in the future."
   ]
  },
  {
   "cell_type": "markdown",
   "metadata": {},
   "source": [
    "First step is to create and convert this likert scale outcome variable to a numeric, hopefully continuous variable"
   ]
  },
  {
   "cell_type": "code",
   "execution_count": 603,
   "metadata": {},
   "outputs": [
    {
     "data": {
      "text/plain": [
       "Index(['q41r7', 'q41r8', 'q41r9', 'q41r10'], dtype='object')"
      ]
     },
     "execution_count": 603,
     "metadata": {},
     "output_type": "execute_result"
    }
   ],
   "source": [
    "cat_columns = jewish_covid_data[[\n",
    " 'q41r7',\n",
    " 'q41r8',\n",
    " 'q41r9',\n",
    " 'q41r10']].columns\n",
    "\n",
    "cat_columns"
   ]
  },
  {
   "cell_type": "code",
   "execution_count": 620,
   "metadata": {
    "scrolled": true
   },
   "outputs": [
    {
     "data": {
      "text/html": [
       "<div>\n",
       "<style scoped>\n",
       "    .dataframe tbody tr th:only-of-type {\n",
       "        vertical-align: middle;\n",
       "    }\n",
       "\n",
       "    .dataframe tbody tr th {\n",
       "        vertical-align: top;\n",
       "    }\n",
       "\n",
       "    .dataframe thead th {\n",
       "        text-align: right;\n",
       "    }\n",
       "</style>\n",
       "<table border=\"1\" class=\"dataframe\">\n",
       "  <thead>\n",
       "    <tr style=\"text-align: right;\">\n",
       "      <th></th>\n",
       "      <th>q41r7</th>\n",
       "      <th>q41r8</th>\n",
       "      <th>q41r9</th>\n",
       "      <th>q41r10</th>\n",
       "    </tr>\n",
       "  </thead>\n",
       "  <tbody>\n",
       "    <tr>\n",
       "      <th>0</th>\n",
       "      <td>Strongly disagree</td>\n",
       "      <td>Strongly disagree</td>\n",
       "      <td>Somewhat agree</td>\n",
       "      <td>Somewhat agree</td>\n",
       "    </tr>\n",
       "    <tr>\n",
       "      <th>1</th>\n",
       "      <td>Somewhat disagree</td>\n",
       "      <td>Somewhat agree</td>\n",
       "      <td>Strongly disagree</td>\n",
       "      <td>Somewhat agree</td>\n",
       "    </tr>\n",
       "    <tr>\n",
       "      <th>2</th>\n",
       "      <td>Strongly agree</td>\n",
       "      <td>Strongly agree</td>\n",
       "      <td>Strongly agree</td>\n",
       "      <td>Strongly agree</td>\n",
       "    </tr>\n",
       "    <tr>\n",
       "      <th>3</th>\n",
       "      <td>Somewhat disagree</td>\n",
       "      <td>Somewhat disagree</td>\n",
       "      <td>Somewhat disagree</td>\n",
       "      <td>Somewhat disagree</td>\n",
       "    </tr>\n",
       "    <tr>\n",
       "      <th>4</th>\n",
       "      <td>Strongly disagree</td>\n",
       "      <td>Strongly disagree</td>\n",
       "      <td>Somewhat disagree</td>\n",
       "      <td>Somewhat disagree</td>\n",
       "    </tr>\n",
       "    <tr>\n",
       "      <th>...</th>\n",
       "      <td>...</td>\n",
       "      <td>...</td>\n",
       "      <td>...</td>\n",
       "      <td>...</td>\n",
       "    </tr>\n",
       "    <tr>\n",
       "      <th>1409</th>\n",
       "      <td>Strongly agree</td>\n",
       "      <td>Somewhat agree</td>\n",
       "      <td>Somewhat disagree</td>\n",
       "      <td>Somewhat agree</td>\n",
       "    </tr>\n",
       "    <tr>\n",
       "      <th>1410</th>\n",
       "      <td>Strongly agree</td>\n",
       "      <td>Strongly agree</td>\n",
       "      <td>Strongly agree</td>\n",
       "      <td>Strongly agree</td>\n",
       "    </tr>\n",
       "    <tr>\n",
       "      <th>1411</th>\n",
       "      <td>Somewhat agree</td>\n",
       "      <td>Somewhat agree</td>\n",
       "      <td>Somewhat agree</td>\n",
       "      <td>Somewhat agree</td>\n",
       "    </tr>\n",
       "    <tr>\n",
       "      <th>1412</th>\n",
       "      <td>Strongly agree</td>\n",
       "      <td>Somewhat disagree</td>\n",
       "      <td>Somewhat disagree</td>\n",
       "      <td>Somewhat disagree</td>\n",
       "    </tr>\n",
       "    <tr>\n",
       "      <th>1413</th>\n",
       "      <td>Strongly disagree</td>\n",
       "      <td>Strongly disagree</td>\n",
       "      <td>Strongly disagree</td>\n",
       "      <td>Strongly disagree</td>\n",
       "    </tr>\n",
       "  </tbody>\n",
       "</table>\n",
       "<p>1414 rows × 4 columns</p>\n",
       "</div>"
      ],
      "text/plain": [
       "                  q41r7              q41r8              q41r9  \\\n",
       "0     Strongly disagree  Strongly disagree     Somewhat agree   \n",
       "1     Somewhat disagree     Somewhat agree  Strongly disagree   \n",
       "2        Strongly agree     Strongly agree     Strongly agree   \n",
       "3     Somewhat disagree  Somewhat disagree  Somewhat disagree   \n",
       "4     Strongly disagree  Strongly disagree  Somewhat disagree   \n",
       "...                 ...                ...                ...   \n",
       "1409     Strongly agree     Somewhat agree  Somewhat disagree   \n",
       "1410     Strongly agree     Strongly agree     Strongly agree   \n",
       "1411     Somewhat agree     Somewhat agree     Somewhat agree   \n",
       "1412     Strongly agree  Somewhat disagree  Somewhat disagree   \n",
       "1413  Strongly disagree  Strongly disagree  Strongly disagree   \n",
       "\n",
       "                 q41r10  \n",
       "0        Somewhat agree  \n",
       "1        Somewhat agree  \n",
       "2        Strongly agree  \n",
       "3     Somewhat disagree  \n",
       "4     Somewhat disagree  \n",
       "...                 ...  \n",
       "1409     Somewhat agree  \n",
       "1410     Strongly agree  \n",
       "1411     Somewhat agree  \n",
       "1412  Somewhat disagree  \n",
       "1413  Strongly disagree  \n",
       "\n",
       "[1414 rows x 4 columns]"
      ]
     },
     "execution_count": 620,
     "metadata": {},
     "output_type": "execute_result"
    }
   ],
   "source": [
    "jewish_covid_data[[\n",
    " 'q41r7',\n",
    " 'q41r8',\n",
    " 'q41r9',\n",
    " 'q41r10']]"
   ]
  },
  {
   "cell_type": "code",
   "execution_count": 621,
   "metadata": {},
   "outputs": [],
   "source": [
    "likert_vals = {'Strongly disagree':-2, 'Somewhat disagree':-1, 'Somewhat agree':1, 'Strongly agree':2}\n",
    "\n",
    "#get all categorical columns\n",
    "cat_columns = jewish_covid_data[[\n",
    " 'q41r7',\n",
    " 'q41r8',\n",
    " 'q41r9',\n",
    " 'q41r10']].columns\n",
    "\n",
    "jewish_covid_data[cat_columns] = jewish_covid_data[cat_columns].apply(lambda s: s.map({k:i for i,k in enumerate(likert_vals)}))"
   ]
  },
  {
   "cell_type": "code",
   "execution_count": 622,
   "metadata": {},
   "outputs": [
    {
     "data": {
      "text/html": [
       "<div>\n",
       "<style scoped>\n",
       "    .dataframe tbody tr th:only-of-type {\n",
       "        vertical-align: middle;\n",
       "    }\n",
       "\n",
       "    .dataframe tbody tr th {\n",
       "        vertical-align: top;\n",
       "    }\n",
       "\n",
       "    .dataframe thead th {\n",
       "        text-align: right;\n",
       "    }\n",
       "</style>\n",
       "<table border=\"1\" class=\"dataframe\">\n",
       "  <thead>\n",
       "    <tr style=\"text-align: right;\">\n",
       "      <th></th>\n",
       "      <th>q41r7</th>\n",
       "      <th>q41r8</th>\n",
       "      <th>q41r9</th>\n",
       "      <th>q41r10</th>\n",
       "    </tr>\n",
       "  </thead>\n",
       "  <tbody>\n",
       "    <tr>\n",
       "      <th>0</th>\n",
       "      <td>0</td>\n",
       "      <td>0</td>\n",
       "      <td>2</td>\n",
       "      <td>2</td>\n",
       "    </tr>\n",
       "    <tr>\n",
       "      <th>1</th>\n",
       "      <td>1</td>\n",
       "      <td>2</td>\n",
       "      <td>0</td>\n",
       "      <td>2</td>\n",
       "    </tr>\n",
       "    <tr>\n",
       "      <th>2</th>\n",
       "      <td>3</td>\n",
       "      <td>3</td>\n",
       "      <td>3</td>\n",
       "      <td>3</td>\n",
       "    </tr>\n",
       "    <tr>\n",
       "      <th>3</th>\n",
       "      <td>1</td>\n",
       "      <td>1</td>\n",
       "      <td>1</td>\n",
       "      <td>1</td>\n",
       "    </tr>\n",
       "    <tr>\n",
       "      <th>4</th>\n",
       "      <td>0</td>\n",
       "      <td>0</td>\n",
       "      <td>1</td>\n",
       "      <td>1</td>\n",
       "    </tr>\n",
       "    <tr>\n",
       "      <th>...</th>\n",
       "      <td>...</td>\n",
       "      <td>...</td>\n",
       "      <td>...</td>\n",
       "      <td>...</td>\n",
       "    </tr>\n",
       "    <tr>\n",
       "      <th>1409</th>\n",
       "      <td>3</td>\n",
       "      <td>2</td>\n",
       "      <td>1</td>\n",
       "      <td>2</td>\n",
       "    </tr>\n",
       "    <tr>\n",
       "      <th>1410</th>\n",
       "      <td>3</td>\n",
       "      <td>3</td>\n",
       "      <td>3</td>\n",
       "      <td>3</td>\n",
       "    </tr>\n",
       "    <tr>\n",
       "      <th>1411</th>\n",
       "      <td>2</td>\n",
       "      <td>2</td>\n",
       "      <td>2</td>\n",
       "      <td>2</td>\n",
       "    </tr>\n",
       "    <tr>\n",
       "      <th>1412</th>\n",
       "      <td>3</td>\n",
       "      <td>1</td>\n",
       "      <td>1</td>\n",
       "      <td>1</td>\n",
       "    </tr>\n",
       "    <tr>\n",
       "      <th>1413</th>\n",
       "      <td>0</td>\n",
       "      <td>0</td>\n",
       "      <td>0</td>\n",
       "      <td>0</td>\n",
       "    </tr>\n",
       "  </tbody>\n",
       "</table>\n",
       "<p>1414 rows × 4 columns</p>\n",
       "</div>"
      ],
      "text/plain": [
       "     q41r7 q41r8 q41r9 q41r10\n",
       "0        0     0     2      2\n",
       "1        1     2     0      2\n",
       "2        3     3     3      3\n",
       "3        1     1     1      1\n",
       "4        0     0     1      1\n",
       "...    ...   ...   ...    ...\n",
       "1409     3     2     1      2\n",
       "1410     3     3     3      3\n",
       "1411     2     2     2      2\n",
       "1412     3     1     1      1\n",
       "1413     0     0     0      0\n",
       "\n",
       "[1414 rows x 4 columns]"
      ]
     },
     "execution_count": 622,
     "metadata": {},
     "output_type": "execute_result"
    }
   ],
   "source": [
    "jewish_covid_data[cat_columns]"
   ]
  },
  {
   "cell_type": "code",
   "execution_count": 607,
   "metadata": {},
   "outputs": [
    {
     "data": {
      "text/plain": [
       "{'Strongly disagree': -2,\n",
       " 'Somewhat disagree': -1,\n",
       " 'Somewhat agree': 1,\n",
       " 'Strongly agree': 2}"
      ]
     },
     "execution_count": 607,
     "metadata": {},
     "output_type": "execute_result"
    }
   ],
   "source": [
    "likert_vals"
   ]
  },
  {
   "cell_type": "code",
   "execution_count": 623,
   "metadata": {},
   "outputs": [],
   "source": [
    "jewish_covid_data['q_results'] = jewish_covid_data[['q41r7',\n",
    " 'q41r8',\n",
    " 'q41r9',\n",
    " 'q41r10']].mean(axis=1) * jewish_covid_data2['ALLWT']"
   ]
  },
  {
   "cell_type": "code",
   "execution_count": 624,
   "metadata": {},
   "outputs": [
    {
     "data": {
      "text/plain": [
       "0       1.275025\n",
       "1       0.947646\n",
       "2       3.680750\n",
       "3       1.252093\n",
       "4       0.626046\n",
       "          ...   \n",
       "1409    1.101240\n",
       "1410    4.448954\n",
       "1411    2.512273\n",
       "1412    2.220679\n",
       "1413    0.000000\n",
       "Name: q_results, Length: 1414, dtype: float64"
      ]
     },
     "execution_count": 624,
     "metadata": {},
     "output_type": "execute_result"
    }
   ],
   "source": [
    "jewish_covid_data['q_results']"
   ]
  },
  {
   "cell_type": "code",
   "execution_count": 626,
   "metadata": {},
   "outputs": [
    {
     "data": {
      "text/plain": [
       "Text(0.5, 0, 'weighted mean outcome var')"
      ]
     },
     "execution_count": 626,
     "metadata": {},
     "output_type": "execute_result"
    },
    {
     "data": {
      "image/png": "[encoded data removed]",
      "text/plain": [
       "<Figure size 432x288 with 1 Axes>"
      ]
     },
     "metadata": {
      "needs_background": "light"
     },
     "output_type": "display_data"
    }
   ],
   "source": [
    "jewish_covid_data['q_results'].hist(bins=50)\n",
    "plt.ylabel('count')\n",
    "plt.xlabel('weighted mean outcome var')"
   ]
  },
  {
   "cell_type": "markdown",
   "metadata": {},
   "source": [
    "I will have to remove the values = 0 for taking the log of the outcome variable."
   ]
  },
  {
   "cell_type": "code",
   "execution_count": 630,
   "metadata": {
    "scrolled": false
   },
   "outputs": [
    {
     "name": "stdout",
     "output_type": "stream",
     "text": [
      "135\n",
      "     q41r7 q41r8 q41r9 q41r10\n",
      "0        0     0     2      2\n",
      "1        1     2     0      2\n",
      "2        3     3     3      3\n",
      "3        1     1     1      1\n",
      "4        0     0     1      1\n",
      "...    ...   ...   ...    ...\n",
      "1407     3     3     2      2\n",
      "1409     3     2     1      2\n",
      "1410     3     3     3      3\n",
      "1411     2     2     2      2\n",
      "1412     3     1     1      1\n",
      "\n",
      "[1279 rows x 4 columns]\n",
      "0       1.275025\n",
      "1       0.758117\n",
      "2       1.226917\n",
      "3       1.252093\n",
      "4       1.252093\n",
      "          ...   \n",
      "1407    1.293090\n",
      "1409    0.550620\n",
      "1410    1.482985\n",
      "1411    1.256136\n",
      "1412    1.480453\n",
      "Name: ALLWT, Length: 1279, dtype: float64\n"
     ]
    }
   ],
   "source": [
    "print(np.sum(jewish_covid_data['q_results'] == 0))\n",
    "#print(jewish_covid_data[jewish_covid_data['q_results'] != 0][cat_columns])\n",
    "#print(jewish_covid_data[jewish_covid_data['q_results'] != 0]['ALLWT'])\n",
    "jewish_covid_data3 = jewish_covid_data[jewish_covid_data['q_results'] != 0]"
   ]
  },
  {
   "cell_type": "code",
   "execution_count": 631,
   "metadata": {},
   "outputs": [
    {
     "data": {
      "text/plain": [
       "Text(0.5, 0, 'log of weighted mean outcome var')"
      ]
     },
     "execution_count": 631,
     "metadata": {},
     "output_type": "execute_result"
    },
    {
     "data": {
      "image/png": "[encoded data removed]",
      "text/plain": [
       "<Figure size 432x288 with 1 Axes>"
      ]
     },
     "metadata": {
      "needs_background": "light"
     },
     "output_type": "display_data"
    }
   ],
   "source": [
    "# it's a good candidate (right skew, mostly continuous) for a log transform, let's do that now\n",
    "# however, I seem to have 0 values, let's check that out\n",
    "\n",
    "np.log(jewish_covid_data3['q_results']).hist(bins=50, density=False)\n",
    "plt.ylabel('count')\n",
    "plt.xlabel('log of weighted mean outcome var')"
   ]
  },
  {
   "cell_type": "markdown",
   "metadata": {},
   "source": [
    "Looks more gaussian, this should help with our models. I had to play with the conversion of text to numerical for this. Getting 0 for the outcome variable, when I was setting \"strongly disagree\" to 0 would introduce a bias. It would mean that when I wanted to take the log of this outcome variable, I'd have to remove these 0 values and therefore remove all 'strongly disagree' responses across the board! There is a still a bias, but 0 corresponds to a neutral attitude. I'm more okay with removing those outcome variables. \n",
    "\n",
    "~ Also, we only have X removed rows instead of 135 (~10% of the dataset) as was with \"strongly disagree\" = 0. ~"
   ]
  },
  {
   "cell_type": "code",
   "execution_count": 613,
   "metadata": {
    "scrolled": true
   },
   "outputs": [],
   "source": [
    "jewish_covid_data3['q_results'] = np.log(jewish_covid_data3['q_results'])"
   ]
  },
  {
   "cell_type": "code",
   "execution_count": null,
   "metadata": {},
   "outputs": [],
   "source": []
  },
  {
   "cell_type": "markdown",
   "metadata": {},
   "source": [
    "## Missing values clean-up"
   ]
  },
  {
   "cell_type": "code",
   "execution_count": 614,
   "metadata": {},
   "outputs": [
    {
     "name": "stdout",
     "output_type": "stream",
     "text": [
      "q17r8             1414\n",
      "q30_18            1413\n",
      "q44_6             1413\n",
      "q30_19            1413\n",
      "qOrientation_3    1413\n",
      "                  ... \n",
      "q34                374\n",
      "q27                374\n",
      "q23cc2             374\n",
      "q18                374\n",
      "q31r12             374\n",
      "Length: 162, dtype: int64 \n",
      "\n",
      "The % of null values per feature:\n",
      "\n",
      "q17r8             100.00\n",
      "q30_18             99.93\n",
      "q44_6              99.93\n",
      "q30_19             99.93\n",
      "qOrientation_3     99.93\n",
      "                   ...  \n",
      "q34                26.45\n",
      "q27                26.45\n",
      "q23cc2             26.45\n",
      "q18                26.45\n",
      "q31r12             26.45\n",
      "Length: 162, dtype: float64\n"
     ]
    }
   ],
   "source": [
    "# let's look at null values\n",
    "nulls = jewish_covid_data.isnull().sum()\n",
    "#print(nulls.sort_values(ascending=False).head(), '\\n')\n",
    "\n",
    "#show features with non-zero amount of missing values only\n",
    "print(nulls[nulls!=0].sort_values(ascending=False), '\\n')\n",
    "\n",
    "#Now as a %\n",
    "nulls_percent = nulls[nulls!=0]/jewish_covid_data.shape[0]*100\n",
    "print('The % of null values per feature:\\n')\n",
    "print(round(nulls_percent.sort_values(ascending=False),2))"
   ]
  },
  {
   "cell_type": "code",
   "execution_count": 615,
   "metadata": {},
   "outputs": [],
   "source": [
    "#let's drop the record column\n",
    "jewish_covid_data = jewish_covid_data.drop(['record'],axis=1)"
   ]
  },
  {
   "cell_type": "code",
   "execution_count": 616,
   "metadata": {},
   "outputs": [
    {
     "data": {
      "text/plain": [
       "Text(0.5, 0, '% of missing values')"
      ]
     },
     "execution_count": 616,
     "metadata": {},
     "output_type": "execute_result"
    },
    {
     "data": {
      "image/png": "[encoded data removed]",
      "text/plain": [
       "<Figure size 432x288 with 1 Axes>"
      ]
     },
     "metadata": {
      "needs_background": "light"
     },
     "output_type": "display_data"
    }
   ],
   "source": [
    "#Examine distribution of null-values column-wise\n",
    "nulls_percent.plot.hist()\n",
    "plt.ylabel('# of columns')\n",
    "plt.xlabel('% of missing values')"
   ]
  },
  {
   "cell_type": "markdown",
   "metadata": {},
   "source": [
    "Our histogram shows we have feature columns with all sorts of different amounts of missing values, starting at ~26%. Let's see if/how missing values affect our outcome variable, and drop them if there's no effect."
   ]
  },
  {
   "cell_type": "code",
   "execution_count": 617,
   "metadata": {},
   "outputs": [],
   "source": [
    "#let's now also drop columns with large amounts of nulls\n",
    "thresh = len(jewish_covid_data) * .2\n",
    "jewish_covid_data2 = jewish_covid_data.dropna(thresh = thresh,axis = 1, inplace = False) "
   ]
  },
  {
   "cell_type": "code",
   "execution_count": 618,
   "metadata": {},
   "outputs": [
    {
     "data": {
      "text/plain": [
       "1414"
      ]
     },
     "execution_count": 618,
     "metadata": {},
     "output_type": "execute_result"
    }
   ],
   "source": [
    "len(jewish_covid_data)"
   ]
  },
  {
   "cell_type": "code",
   "execution_count": 619,
   "metadata": {},
   "outputs": [
    {
     "data": {
      "text/plain": [
       "(1414, 157)"
      ]
     },
     "execution_count": 619,
     "metadata": {},
     "output_type": "execute_result"
    }
   ],
   "source": [
    "jewish_covid_data2.shape"
   ]
  },
  {
   "cell_type": "markdown",
   "metadata": {},
   "source": [
    "Reduced our dimensionality by 103 features, nice!"
   ]
  }
 ],
 "metadata": {
  "kernelspec": {
   "display_name": "Python 3",
   "language": "python",
   "name": "python3"
  },
  "language_info": {
   "codemirror_mode": {
    "name": "ipython",
    "version": 3
   },
   "file_extension": ".py",
   "mimetype": "text/x-python",
   "name": "python",
   "nbconvert_exporter": "python",
   "pygments_lexer": "ipython3",
   "version": "3.6.13"
  }
 },
 "nbformat": 4,
 "nbformat_minor": 2
}
